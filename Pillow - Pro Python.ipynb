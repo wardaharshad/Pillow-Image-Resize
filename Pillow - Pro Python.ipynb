{
 "cells": [
  {
   "cell_type": "code",
   "execution_count": 2,
   "id": "secondary-class",
   "metadata": {},
   "outputs": [],
   "source": [
    "import PIL\n",
    "from PIL import Image"
   ]
  },
  {
   "cell_type": "code",
   "execution_count": 8,
   "id": "developmental-converter",
   "metadata": {},
   "outputs": [],
   "source": [
    "img = Image.open(\"Image.jpg\")\n",
    "img.show()"
   ]
  },
  {
   "cell_type": "code",
   "execution_count": 4,
   "id": "senior-birmingham",
   "metadata": {},
   "outputs": [
    {
     "name": "stdout",
     "output_type": "stream",
     "text": [
      "RGB\n"
     ]
    }
   ],
   "source": [
    "print(img.mode)"
   ]
  },
  {
   "cell_type": "code",
   "execution_count": 5,
   "id": "complicated-drunk",
   "metadata": {},
   "outputs": [
    {
     "name": "stdout",
     "output_type": "stream",
     "text": [
      "(800, 480)\n"
     ]
    }
   ],
   "source": [
    "print(img.size)"
   ]
  },
  {
   "cell_type": "code",
   "execution_count": 6,
   "id": "conscious-potter",
   "metadata": {},
   "outputs": [
    {
     "name": "stdout",
     "output_type": "stream",
     "text": [
      "JPEG\n"
     ]
    }
   ],
   "source": [
    "print(img.format)"
   ]
  },
  {
   "cell_type": "code",
   "execution_count": 11,
   "id": "anonymous-tennessee",
   "metadata": {},
   "outputs": [],
   "source": [
    "angle = 45\n",
    "rotated_image= img.rotate(angle)\n",
    "rotated_image.show()\n",
    "rotated_image.save(\"Rotated Image.jpg\")"
   ]
  },
  {
   "cell_type": "code",
   "execution_count": 13,
   "id": "modular-momentum",
   "metadata": {},
   "outputs": [
    {
     "name": "stdout",
     "output_type": "stream",
     "text": [
      "(200, 50)\n"
     ]
    }
   ],
   "source": [
    "size = (200,50)\n",
    "resized_image= img.resize(size)\n",
    "resized_image.show()\n",
    "resized_image.save(\"Resized Image New.jpg\")\n",
    "print(resized_image.size)"
   ]
  },
  {
   "cell_type": "code",
   "execution_count": null,
   "id": "interested-morris",
   "metadata": {},
   "outputs": [],
   "source": []
  }
 ],
 "metadata": {
  "kernelspec": {
   "display_name": "Python 3",
   "language": "python",
   "name": "python3"
  },
  "language_info": {
   "codemirror_mode": {
    "name": "ipython",
    "version": 3
   },
   "file_extension": ".py",
   "mimetype": "text/x-python",
   "name": "python",
   "nbconvert_exporter": "python",
   "pygments_lexer": "ipython3",
   "version": "3.8.7"
  }
 },
 "nbformat": 4,
 "nbformat_minor": 5
}
